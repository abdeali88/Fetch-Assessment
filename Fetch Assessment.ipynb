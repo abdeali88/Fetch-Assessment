{
 "cells": [
  {
   "cell_type": "code",
   "execution_count": 2,
   "id": "259501b2-d49d-4ce1-9756-c0c6910ff1cc",
   "metadata": {},
   "outputs": [],
   "source": [
    "import numpy as np\n",
    "import pandas as pd\n",
    "import plotly.express as pltly"
   ]
  },
  {
   "cell_type": "markdown",
   "id": "1a5ef63e-5f79-4a62-bbad-6b00489edc59",
   "metadata": {},
   "source": [
    "## Q: First: explore the data\n",
    "Review the unstructured csv files and answer the following questions with code that supports your conclusions:\n",
    "- Are there any data quality issues present?\n",
    "- Are there any fields that are challenging to understand?"
   ]
  },
  {
   "cell_type": "code",
   "execution_count": 3,
   "id": "6c016b15-676c-427d-949b-3180092a2ac3",
   "metadata": {},
   "outputs": [],
   "source": [
    "# Import all data files\n",
    "users = pd.read_csv('./USER_TAKEHOME.csv')\n",
    "txns = pd.read_csv('./TRANSACTION_TAKEHOME.csv')\n",
    "products = pd.read_csv('./PRODUCTS_TAKEHOME.csv')"
   ]
  },
  {
   "cell_type": "code",
   "execution_count": 13,
   "id": "80576d69-2803-4420-853d-8315b607d27e",
   "metadata": {},
   "outputs": [
    {
     "data": {
      "text/html": [
       "<div>\n",
       "<style scoped>\n",
       "    .dataframe tbody tr th:only-of-type {\n",
       "        vertical-align: middle;\n",
       "    }\n",
       "\n",
       "    .dataframe tbody tr th {\n",
       "        vertical-align: top;\n",
       "    }\n",
       "\n",
       "    .dataframe thead th {\n",
       "        text-align: right;\n",
       "    }\n",
       "</style>\n",
       "<table border=\"1\" class=\"dataframe\">\n",
       "  <thead>\n",
       "    <tr style=\"text-align: right;\">\n",
       "      <th></th>\n",
       "      <th>ID</th>\n",
       "      <th>CREATED_DATE</th>\n",
       "      <th>BIRTH_DATE</th>\n",
       "      <th>STATE</th>\n",
       "      <th>LANGUAGE</th>\n",
       "      <th>GENDER</th>\n",
       "    </tr>\n",
       "  </thead>\n",
       "  <tbody>\n",
       "    <tr>\n",
       "      <th>0</th>\n",
       "      <td>5ef3b4f17053ab141787697d</td>\n",
       "      <td>2020-06-24 20:17:54.000 Z</td>\n",
       "      <td>2000-08-11 00:00:00.000 Z</td>\n",
       "      <td>CA</td>\n",
       "      <td>es-419</td>\n",
       "      <td>female</td>\n",
       "    </tr>\n",
       "    <tr>\n",
       "      <th>1</th>\n",
       "      <td>5ff220d383fcfc12622b96bc</td>\n",
       "      <td>2021-01-03 19:53:55.000 Z</td>\n",
       "      <td>2001-09-24 04:00:00.000 Z</td>\n",
       "      <td>PA</td>\n",
       "      <td>en</td>\n",
       "      <td>female</td>\n",
       "    </tr>\n",
       "    <tr>\n",
       "      <th>2</th>\n",
       "      <td>6477950aa55bb77a0e27ee10</td>\n",
       "      <td>2023-05-31 18:42:18.000 Z</td>\n",
       "      <td>1994-10-28 00:00:00.000 Z</td>\n",
       "      <td>FL</td>\n",
       "      <td>es-419</td>\n",
       "      <td>female</td>\n",
       "    </tr>\n",
       "    <tr>\n",
       "      <th>3</th>\n",
       "      <td>658a306e99b40f103b63ccf8</td>\n",
       "      <td>2023-12-26 01:46:22.000 Z</td>\n",
       "      <td>NaN</td>\n",
       "      <td>NC</td>\n",
       "      <td>en</td>\n",
       "      <td>NaN</td>\n",
       "    </tr>\n",
       "    <tr>\n",
       "      <th>4</th>\n",
       "      <td>653cf5d6a225ea102b7ecdc2</td>\n",
       "      <td>2023-10-28 11:51:50.000 Z</td>\n",
       "      <td>1972-03-19 00:00:00.000 Z</td>\n",
       "      <td>PA</td>\n",
       "      <td>en</td>\n",
       "      <td>female</td>\n",
       "    </tr>\n",
       "  </tbody>\n",
       "</table>\n",
       "</div>"
      ],
      "text/plain": [
       "                         ID               CREATED_DATE  \\\n",
       "0  5ef3b4f17053ab141787697d  2020-06-24 20:17:54.000 Z   \n",
       "1  5ff220d383fcfc12622b96bc  2021-01-03 19:53:55.000 Z   \n",
       "2  6477950aa55bb77a0e27ee10  2023-05-31 18:42:18.000 Z   \n",
       "3  658a306e99b40f103b63ccf8  2023-12-26 01:46:22.000 Z   \n",
       "4  653cf5d6a225ea102b7ecdc2  2023-10-28 11:51:50.000 Z   \n",
       "\n",
       "                  BIRTH_DATE STATE LANGUAGE  GENDER  \n",
       "0  2000-08-11 00:00:00.000 Z    CA   es-419  female  \n",
       "1  2001-09-24 04:00:00.000 Z    PA       en  female  \n",
       "2  1994-10-28 00:00:00.000 Z    FL   es-419  female  \n",
       "3                        NaN    NC       en     NaN  \n",
       "4  1972-03-19 00:00:00.000 Z    PA       en  female  "
      ]
     },
     "execution_count": 13,
     "metadata": {},
     "output_type": "execute_result"
    }
   ],
   "source": [
    "users.head()"
   ]
  },
  {
   "cell_type": "code",
   "execution_count": 14,
   "id": "26387c43-d348-40db-89bd-01aec38da206",
   "metadata": {},
   "outputs": [
    {
     "data": {
      "text/html": [
       "<div>\n",
       "<style scoped>\n",
       "    .dataframe tbody tr th:only-of-type {\n",
       "        vertical-align: middle;\n",
       "    }\n",
       "\n",
       "    .dataframe tbody tr th {\n",
       "        vertical-align: top;\n",
       "    }\n",
       "\n",
       "    .dataframe thead th {\n",
       "        text-align: right;\n",
       "    }\n",
       "</style>\n",
       "<table border=\"1\" class=\"dataframe\">\n",
       "  <thead>\n",
       "    <tr style=\"text-align: right;\">\n",
       "      <th></th>\n",
       "      <th>RECEIPT_ID</th>\n",
       "      <th>PURCHASE_DATE</th>\n",
       "      <th>SCAN_DATE</th>\n",
       "      <th>STORE_NAME</th>\n",
       "      <th>USER_ID</th>\n",
       "      <th>BARCODE</th>\n",
       "      <th>FINAL_QUANTITY</th>\n",
       "      <th>FINAL_SALE</th>\n",
       "    </tr>\n",
       "  </thead>\n",
       "  <tbody>\n",
       "    <tr>\n",
       "      <th>0</th>\n",
       "      <td>0000d256-4041-4a3e-adc4-5623fb6e0c99</td>\n",
       "      <td>2024-08-21</td>\n",
       "      <td>2024-08-21 14:19:06.539 Z</td>\n",
       "      <td>WALMART</td>\n",
       "      <td>63b73a7f3d310dceeabd4758</td>\n",
       "      <td>1.530001e+10</td>\n",
       "      <td>1.00</td>\n",
       "      <td></td>\n",
       "    </tr>\n",
       "    <tr>\n",
       "      <th>1</th>\n",
       "      <td>0001455d-7a92-4a7b-a1d2-c747af1c8fd3</td>\n",
       "      <td>2024-07-20</td>\n",
       "      <td>2024-07-20 09:50:24.206 Z</td>\n",
       "      <td>ALDI</td>\n",
       "      <td>62c08877baa38d1a1f6c211a</td>\n",
       "      <td>NaN</td>\n",
       "      <td>zero</td>\n",
       "      <td>1.49</td>\n",
       "    </tr>\n",
       "    <tr>\n",
       "      <th>2</th>\n",
       "      <td>00017e0a-7851-42fb-bfab-0baa96e23586</td>\n",
       "      <td>2024-08-18</td>\n",
       "      <td>2024-08-19 15:38:56.813 Z</td>\n",
       "      <td>WALMART</td>\n",
       "      <td>60842f207ac8b7729e472020</td>\n",
       "      <td>7.874223e+10</td>\n",
       "      <td>1.00</td>\n",
       "      <td></td>\n",
       "    </tr>\n",
       "    <tr>\n",
       "      <th>3</th>\n",
       "      <td>000239aa-3478-453d-801e-66a82e39c8af</td>\n",
       "      <td>2024-06-18</td>\n",
       "      <td>2024-06-19 11:03:37.468 Z</td>\n",
       "      <td>FOOD LION</td>\n",
       "      <td>63fcd7cea4f8442c3386b589</td>\n",
       "      <td>7.833997e+11</td>\n",
       "      <td>zero</td>\n",
       "      <td>3.49</td>\n",
       "    </tr>\n",
       "    <tr>\n",
       "      <th>4</th>\n",
       "      <td>00026b4c-dfe8-49dd-b026-4c2f0fd5c6a1</td>\n",
       "      <td>2024-07-04</td>\n",
       "      <td>2024-07-05 15:56:43.549 Z</td>\n",
       "      <td>RANDALLS</td>\n",
       "      <td>6193231ae9b3d75037b0f928</td>\n",
       "      <td>4.790050e+10</td>\n",
       "      <td>1.00</td>\n",
       "      <td></td>\n",
       "    </tr>\n",
       "  </tbody>\n",
       "</table>\n",
       "</div>"
      ],
      "text/plain": [
       "                             RECEIPT_ID PURCHASE_DATE  \\\n",
       "0  0000d256-4041-4a3e-adc4-5623fb6e0c99    2024-08-21   \n",
       "1  0001455d-7a92-4a7b-a1d2-c747af1c8fd3    2024-07-20   \n",
       "2  00017e0a-7851-42fb-bfab-0baa96e23586    2024-08-18   \n",
       "3  000239aa-3478-453d-801e-66a82e39c8af    2024-06-18   \n",
       "4  00026b4c-dfe8-49dd-b026-4c2f0fd5c6a1    2024-07-04   \n",
       "\n",
       "                   SCAN_DATE STORE_NAME                   USER_ID  \\\n",
       "0  2024-08-21 14:19:06.539 Z    WALMART  63b73a7f3d310dceeabd4758   \n",
       "1  2024-07-20 09:50:24.206 Z       ALDI  62c08877baa38d1a1f6c211a   \n",
       "2  2024-08-19 15:38:56.813 Z    WALMART  60842f207ac8b7729e472020   \n",
       "3  2024-06-19 11:03:37.468 Z  FOOD LION  63fcd7cea4f8442c3386b589   \n",
       "4  2024-07-05 15:56:43.549 Z   RANDALLS  6193231ae9b3d75037b0f928   \n",
       "\n",
       "        BARCODE FINAL_QUANTITY FINAL_SALE  \n",
       "0  1.530001e+10           1.00             \n",
       "1           NaN           zero       1.49  \n",
       "2  7.874223e+10           1.00             \n",
       "3  7.833997e+11           zero       3.49  \n",
       "4  4.790050e+10           1.00             "
      ]
     },
     "execution_count": 14,
     "metadata": {},
     "output_type": "execute_result"
    }
   ],
   "source": [
    "txns.head()"
   ]
  },
  {
   "cell_type": "code",
   "execution_count": 15,
   "id": "d4c2f471-f5ac-4323-b7f6-a129702f793d",
   "metadata": {},
   "outputs": [
    {
     "data": {
      "text/html": [
       "<div>\n",
       "<style scoped>\n",
       "    .dataframe tbody tr th:only-of-type {\n",
       "        vertical-align: middle;\n",
       "    }\n",
       "\n",
       "    .dataframe tbody tr th {\n",
       "        vertical-align: top;\n",
       "    }\n",
       "\n",
       "    .dataframe thead th {\n",
       "        text-align: right;\n",
       "    }\n",
       "</style>\n",
       "<table border=\"1\" class=\"dataframe\">\n",
       "  <thead>\n",
       "    <tr style=\"text-align: right;\">\n",
       "      <th></th>\n",
       "      <th>CATEGORY_1</th>\n",
       "      <th>CATEGORY_2</th>\n",
       "      <th>CATEGORY_3</th>\n",
       "      <th>CATEGORY_4</th>\n",
       "      <th>MANUFACTURER</th>\n",
       "      <th>BRAND</th>\n",
       "      <th>BARCODE</th>\n",
       "    </tr>\n",
       "  </thead>\n",
       "  <tbody>\n",
       "    <tr>\n",
       "      <th>0</th>\n",
       "      <td>Health &amp; Wellness</td>\n",
       "      <td>Sexual Health</td>\n",
       "      <td>Conductivity Gels &amp; Lotions</td>\n",
       "      <td>NaN</td>\n",
       "      <td>NaN</td>\n",
       "      <td>NaN</td>\n",
       "      <td>7.964944e+11</td>\n",
       "    </tr>\n",
       "    <tr>\n",
       "      <th>1</th>\n",
       "      <td>Snacks</td>\n",
       "      <td>Puffed Snacks</td>\n",
       "      <td>Cheese Curls &amp; Puffs</td>\n",
       "      <td>NaN</td>\n",
       "      <td>NaN</td>\n",
       "      <td>NaN</td>\n",
       "      <td>2.327801e+10</td>\n",
       "    </tr>\n",
       "    <tr>\n",
       "      <th>2</th>\n",
       "      <td>Health &amp; Wellness</td>\n",
       "      <td>Hair Care</td>\n",
       "      <td>Hair Care Accessories</td>\n",
       "      <td>NaN</td>\n",
       "      <td>PLACEHOLDER MANUFACTURER</td>\n",
       "      <td>ELECSOP</td>\n",
       "      <td>4.618178e+11</td>\n",
       "    </tr>\n",
       "    <tr>\n",
       "      <th>3</th>\n",
       "      <td>Health &amp; Wellness</td>\n",
       "      <td>Oral Care</td>\n",
       "      <td>Toothpaste</td>\n",
       "      <td>NaN</td>\n",
       "      <td>COLGATE-PALMOLIVE</td>\n",
       "      <td>COLGATE</td>\n",
       "      <td>3.500047e+10</td>\n",
       "    </tr>\n",
       "    <tr>\n",
       "      <th>4</th>\n",
       "      <td>Health &amp; Wellness</td>\n",
       "      <td>Medicines &amp; Treatments</td>\n",
       "      <td>Essential Oils</td>\n",
       "      <td>NaN</td>\n",
       "      <td>MAPLE HOLISTICS AND HONEYDEW PRODUCTS INTERCHA...</td>\n",
       "      <td>MAPLE HOLISTICS</td>\n",
       "      <td>8.068109e+11</td>\n",
       "    </tr>\n",
       "  </tbody>\n",
       "</table>\n",
       "</div>"
      ],
      "text/plain": [
       "          CATEGORY_1              CATEGORY_2                   CATEGORY_3  \\\n",
       "0  Health & Wellness           Sexual Health  Conductivity Gels & Lotions   \n",
       "1             Snacks           Puffed Snacks         Cheese Curls & Puffs   \n",
       "2  Health & Wellness               Hair Care        Hair Care Accessories   \n",
       "3  Health & Wellness               Oral Care                   Toothpaste   \n",
       "4  Health & Wellness  Medicines & Treatments               Essential Oils   \n",
       "\n",
       "  CATEGORY_4                                       MANUFACTURER  \\\n",
       "0        NaN                                                NaN   \n",
       "1        NaN                                                NaN   \n",
       "2        NaN                           PLACEHOLDER MANUFACTURER   \n",
       "3        NaN                                  COLGATE-PALMOLIVE   \n",
       "4        NaN  MAPLE HOLISTICS AND HONEYDEW PRODUCTS INTERCHA...   \n",
       "\n",
       "             BRAND       BARCODE  \n",
       "0              NaN  7.964944e+11  \n",
       "1              NaN  2.327801e+10  \n",
       "2          ELECSOP  4.618178e+11  \n",
       "3          COLGATE  3.500047e+10  \n",
       "4  MAPLE HOLISTICS  8.068109e+11  "
      ]
     },
     "execution_count": 15,
     "metadata": {},
     "output_type": "execute_result"
    }
   ],
   "source": [
    "products.head()"
   ]
  },
  {
   "cell_type": "markdown",
   "id": "724cd926-44a5-434a-a77c-d47641aea5f2",
   "metadata": {},
   "source": [
    "### Exploring Users Dataset"
   ]
  },
  {
   "cell_type": "code",
   "execution_count": 16,
   "id": "08236aec-76cd-434e-bebc-2ace716a7d04",
   "metadata": {},
   "outputs": [
    {
     "data": {
      "text/plain": [
       "ID                  0\n",
       "CREATED_DATE        0\n",
       "BIRTH_DATE       3675\n",
       "STATE            4812\n",
       "LANGUAGE        30508\n",
       "GENDER           5892\n",
       "dtype: int64"
      ]
     },
     "execution_count": 16,
     "metadata": {},
     "output_type": "execute_result"
    }
   ],
   "source": [
    "users.isna().sum()"
   ]
  },
  {
   "cell_type": "markdown",
   "id": "a4bc494e-0705-4743-a933-4b2ae9829a2b",
   "metadata": {},
   "source": [
    "- ID and CREATED_DATE have no missing values. Could be candidate keys.\n",
    "- The dataset has notable gaps in demographic fields like BIRTH_DATE, STATE, LANGUAGE, GENDER, suggesting incomplete user profiles"
   ]
  },
  {
   "cell_type": "code",
   "execution_count": 30,
   "id": "45dda63c-a888-44d5-b8e7-ea64a0b9c1fa",
   "metadata": {},
   "outputs": [
    {
     "name": "stdout",
     "output_type": "stream",
     "text": [
      "52\n",
      "['CA' 'PA' 'FL' 'NC' 'NY' 'IN' 'OH' 'TX' 'NM' 'PR' 'CO' 'AZ' 'RI' 'MO'\n",
      " 'NJ' 'MA' 'TN' 'LA' 'NH' 'WI' 'IA' 'GA' 'VA' 'DC' 'KY' 'SC' 'MN' 'WV'\n",
      " 'DE' 'MI' 'IL' 'MS' 'WA' 'KS' 'CT' 'OR' 'UT' 'MD' 'OK' 'NE' 'NV' 'AL'\n",
      " 'AK' 'AR' 'HI' 'ME' 'ND' 'ID' 'WY' 'MT' 'SD' 'VT']\n"
     ]
    }
   ],
   "source": [
    "# Get a list of unique states in the users dataset\n",
    "unique_states = users[users['STATE'].notna()]['STATE'].unique()\n",
    "\n",
    "# Number of unique states\n",
    "print(len(unique_states))\n",
    "\n",
    "# List of unique states\n",
    "print(users[users['STATE'].notna()]['STATE'].unique())"
   ]
  },
  {
   "cell_type": "markdown",
   "id": "14ba22a8-73ef-4ea1-8658-5bc788f5204b",
   "metadata": {},
   "source": [
    "- There are 52 unique states, when in fact there are only 50 states in USA\n",
    "- Upon closer investigation, we can see that 'DC' and 'PR' are also included which are separate regions or territories"
   ]
  },
  {
   "cell_type": "code",
   "execution_count": 31,
   "id": "cee1cadc-9855-4eae-97f3-9c5bfa61d04d",
   "metadata": {},
   "outputs": [
    {
     "data": {
      "text/plain": [
       "LANGUAGE\n",
       "en        63403\n",
       "es-419     6089\n",
       "Name: count, dtype: int64"
      ]
     },
     "execution_count": 31,
     "metadata": {},
     "output_type": "execute_result"
    }
   ],
   "source": [
    "users['LANGUAGE'].value_counts()"
   ]
  },
  {
   "cell_type": "markdown",
   "id": "1bf41c2b-da69-4ebb-85ad-ae83488318e4",
   "metadata": {},
   "source": [
    "- The users dataset contains two unique language entries: en and es\n",
    "- While the exact context of these language codes is not explicitly defined in the dataset, it can be assumed that en likely represents English and es represents Español (Spanish)\n",
    "- These codes may indicate the language in which the data was collected or the preferred language of the users"
   ]
  },
  {
   "cell_type": "code",
   "execution_count": 35,
   "id": "e5c4c326-fb96-4b3c-a6c3-952f5b544b91",
   "metadata": {},
   "outputs": [
    {
     "data": {
      "text/plain": [
       "GENDER\n",
       "female                    64240\n",
       "male                      25829\n",
       "transgender                1772\n",
       "prefer_not_to_say          1350\n",
       "non_binary                  473\n",
       "unknown                     196\n",
       "not_listed                  180\n",
       "Non-Binary                   34\n",
       "not_specified                28\n",
       "My gender isn't listed        5\n",
       "Prefer not to say             1\n",
       "Name: count, dtype: int64"
      ]
     },
     "execution_count": 35,
     "metadata": {},
     "output_type": "execute_result"
    }
   ],
   "source": [
    "users['GENDER'].value_counts()"
   ]
  },
  {
   "cell_type": "markdown",
   "id": "0a36f81c-1e42-4473-bcc6-620722ac6d44",
   "metadata": {},
   "source": [
    "- Entries like {\"non_binary\" & \"Non-Binary\"} and {\"Prefer not to say\" & \"prefer_not_to_say\"} should be standardized.\n",
    "- It is unclear what labels such as \"unknown\" and \"not_specified\" signify and could overlap with other categories\n",
    "- Entries like \"My gender isn't listed\" (5) could be consolidated with other Categories for analysis"
   ]
  },
  {
   "cell_type": "markdown",
   "id": "ca9e25ee-148b-4f72-abfd-210deb7b7de6",
   "metadata": {},
   "source": [
    "### Exploring Products Dataset"
   ]
  },
  {
   "cell_type": "code",
   "execution_count": 18,
   "id": "2919f162-b6b1-43ed-9fa6-68a61862d225",
   "metadata": {},
   "outputs": [
    {
     "data": {
      "text/plain": [
       "CATEGORY_1         111\n",
       "CATEGORY_2        1424\n",
       "CATEGORY_3       60566\n",
       "CATEGORY_4      778093\n",
       "MANUFACTURER    226474\n",
       "BRAND           226472\n",
       "BARCODE           4025\n",
       "dtype: int64"
      ]
     },
     "execution_count": 18,
     "metadata": {},
     "output_type": "execute_result"
    }
   ],
   "source": [
    "products.isna().sum()"
   ]
  },
  {
   "cell_type": "markdown",
   "id": "8e301eac-166a-4295-b8eb-f6dce62351c0",
   "metadata": {},
   "source": [
    "- The Barcode of a product is intended to be a foreign key in the Transactions table.\n",
    "- There are 4,025 products without a barcode, making it impossible to uniquely identify these products.\n",
    "- As a result, these products cannot be used in transactions due to the absence of a unique identifier."
   ]
  },
  {
   "cell_type": "code",
   "execution_count": 21,
   "id": "dd59d0f5-303f-41c3-9d47-70266299cd38",
   "metadata": {},
   "outputs": [
    {
     "data": {
      "text/html": [
       "<div>\n",
       "<style scoped>\n",
       "    .dataframe tbody tr th:only-of-type {\n",
       "        vertical-align: middle;\n",
       "    }\n",
       "\n",
       "    .dataframe tbody tr th {\n",
       "        vertical-align: top;\n",
       "    }\n",
       "\n",
       "    .dataframe thead th {\n",
       "        text-align: right;\n",
       "    }\n",
       "</style>\n",
       "<table border=\"1\" class=\"dataframe\">\n",
       "  <thead>\n",
       "    <tr style=\"text-align: right;\">\n",
       "      <th></th>\n",
       "      <th>CATEGORY_1</th>\n",
       "      <th>CATEGORY_2</th>\n",
       "      <th>CATEGORY_3</th>\n",
       "      <th>CATEGORY_4</th>\n",
       "      <th>MANUFACTURER</th>\n",
       "      <th>BRAND</th>\n",
       "      <th>BARCODE</th>\n",
       "    </tr>\n",
       "  </thead>\n",
       "  <tbody>\n",
       "    <tr>\n",
       "      <th>5184</th>\n",
       "      <td>NaN</td>\n",
       "      <td>NaN</td>\n",
       "      <td>NaN</td>\n",
       "      <td>NaN</td>\n",
       "      <td>KEURIG DR PEPPER</td>\n",
       "      <td>POLAR</td>\n",
       "      <td>7.153711e+11</td>\n",
       "    </tr>\n",
       "    <tr>\n",
       "      <th>15048</th>\n",
       "      <td>NaN</td>\n",
       "      <td>NaN</td>\n",
       "      <td>NaN</td>\n",
       "      <td>NaN</td>\n",
       "      <td>THE COCA-COLA COMPANY</td>\n",
       "      <td>COCA-COLA</td>\n",
       "      <td>1.963655e+11</td>\n",
       "    </tr>\n",
       "    <tr>\n",
       "      <th>25313</th>\n",
       "      <td>NaN</td>\n",
       "      <td>NaN</td>\n",
       "      <td>NaN</td>\n",
       "      <td>NaN</td>\n",
       "      <td>MOLSONCOORS</td>\n",
       "      <td>COORS LIGHT</td>\n",
       "      <td>1.981811e+11</td>\n",
       "    </tr>\n",
       "    <tr>\n",
       "      <th>35604</th>\n",
       "      <td>NaN</td>\n",
       "      <td>NaN</td>\n",
       "      <td>NaN</td>\n",
       "      <td>NaN</td>\n",
       "      <td>THE COCA-COLA COMPANY</td>\n",
       "      <td>COCA-COLA</td>\n",
       "      <td>1.969831e+11</td>\n",
       "    </tr>\n",
       "    <tr>\n",
       "      <th>43214</th>\n",
       "      <td>NaN</td>\n",
       "      <td>NaN</td>\n",
       "      <td>NaN</td>\n",
       "      <td>NaN</td>\n",
       "      <td>KEURIG DR PEPPER</td>\n",
       "      <td>POLAR</td>\n",
       "      <td>6.443761e+11</td>\n",
       "    </tr>\n",
       "    <tr>\n",
       "      <th>...</th>\n",
       "      <td>...</td>\n",
       "      <td>...</td>\n",
       "      <td>...</td>\n",
       "      <td>...</td>\n",
       "      <td>...</td>\n",
       "      <td>...</td>\n",
       "      <td>...</td>\n",
       "    </tr>\n",
       "    <tr>\n",
       "      <th>815098</th>\n",
       "      <td>NaN</td>\n",
       "      <td>NaN</td>\n",
       "      <td>NaN</td>\n",
       "      <td>NaN</td>\n",
       "      <td>MOLSONCOORS</td>\n",
       "      <td>COORS LIGHT</td>\n",
       "      <td>1.981811e+11</td>\n",
       "    </tr>\n",
       "    <tr>\n",
       "      <th>828059</th>\n",
       "      <td>NaN</td>\n",
       "      <td>NaN</td>\n",
       "      <td>NaN</td>\n",
       "      <td>NaN</td>\n",
       "      <td>PEPSICO</td>\n",
       "      <td>CHEETOS</td>\n",
       "      <td>2.840072e+10</td>\n",
       "    </tr>\n",
       "    <tr>\n",
       "      <th>838895</th>\n",
       "      <td>NaN</td>\n",
       "      <td>NaN</td>\n",
       "      <td>NaN</td>\n",
       "      <td>NaN</td>\n",
       "      <td>THE COCA-COLA COMPANY</td>\n",
       "      <td>COCA-COLA</td>\n",
       "      <td>1.969831e+11</td>\n",
       "    </tr>\n",
       "    <tr>\n",
       "      <th>841164</th>\n",
       "      <td>NaN</td>\n",
       "      <td>NaN</td>\n",
       "      <td>NaN</td>\n",
       "      <td>NaN</td>\n",
       "      <td>MOLSONCOORS</td>\n",
       "      <td>COORS LIGHT</td>\n",
       "      <td>1.981811e+11</td>\n",
       "    </tr>\n",
       "    <tr>\n",
       "      <th>841802</th>\n",
       "      <td>NaN</td>\n",
       "      <td>NaN</td>\n",
       "      <td>NaN</td>\n",
       "      <td>NaN</td>\n",
       "      <td>PEPSICO</td>\n",
       "      <td>CHEETOS</td>\n",
       "      <td>1.980402e+11</td>\n",
       "    </tr>\n",
       "  </tbody>\n",
       "</table>\n",
       "<p>111 rows × 7 columns</p>\n",
       "</div>"
      ],
      "text/plain": [
       "       CATEGORY_1 CATEGORY_2 CATEGORY_3 CATEGORY_4           MANUFACTURER  \\\n",
       "5184          NaN        NaN        NaN        NaN       KEURIG DR PEPPER   \n",
       "15048         NaN        NaN        NaN        NaN  THE COCA-COLA COMPANY   \n",
       "25313         NaN        NaN        NaN        NaN            MOLSONCOORS   \n",
       "35604         NaN        NaN        NaN        NaN  THE COCA-COLA COMPANY   \n",
       "43214         NaN        NaN        NaN        NaN       KEURIG DR PEPPER   \n",
       "...           ...        ...        ...        ...                    ...   \n",
       "815098        NaN        NaN        NaN        NaN            MOLSONCOORS   \n",
       "828059        NaN        NaN        NaN        NaN                PEPSICO   \n",
       "838895        NaN        NaN        NaN        NaN  THE COCA-COLA COMPANY   \n",
       "841164        NaN        NaN        NaN        NaN            MOLSONCOORS   \n",
       "841802        NaN        NaN        NaN        NaN                PEPSICO   \n",
       "\n",
       "              BRAND       BARCODE  \n",
       "5184          POLAR  7.153711e+11  \n",
       "15048     COCA-COLA  1.963655e+11  \n",
       "25313   COORS LIGHT  1.981811e+11  \n",
       "35604     COCA-COLA  1.969831e+11  \n",
       "43214         POLAR  6.443761e+11  \n",
       "...             ...           ...  \n",
       "815098  COORS LIGHT  1.981811e+11  \n",
       "828059      CHEETOS  2.840072e+10  \n",
       "838895    COCA-COLA  1.969831e+11  \n",
       "841164  COORS LIGHT  1.981811e+11  \n",
       "841802      CHEETOS  1.980402e+11  \n",
       "\n",
       "[111 rows x 7 columns]"
      ]
     },
     "execution_count": 21,
     "metadata": {},
     "output_type": "execute_result"
    }
   ],
   "source": [
    "products[products['CATEGORY_1'].isna()]"
   ]
  },
  {
   "cell_type": "markdown",
   "id": "77c863b2-46b2-4d79-8efc-49a54546378d",
   "metadata": {},
   "source": [
    "- Category_1 has 111 missing values. For these records, all other category fields are also null, indicating 111 products with no category information assigned"
   ]
  },
  {
   "cell_type": "code",
   "execution_count": 16,
   "id": "be2ea7a6-1097-427d-891c-e34b08742590",
   "metadata": {},
   "outputs": [
    {
     "data": {
      "text/plain": [
       "27"
      ]
     },
     "execution_count": 16,
     "metadata": {},
     "output_type": "execute_result"
    }
   ],
   "source": [
    "products['CATEGORY_1'].nunique()"
   ]
  },
  {
   "cell_type": "code",
   "execution_count": 11,
   "id": "932a535a",
   "metadata": {},
   "outputs": [
    {
     "data": {
      "text/plain": [
       "121"
      ]
     },
     "execution_count": 11,
     "metadata": {},
     "output_type": "execute_result"
    }
   ],
   "source": [
    "products['CATEGORY_2'].nunique()"
   ]
  },
  {
   "cell_type": "code",
   "execution_count": 12,
   "id": "fb1ecbb8",
   "metadata": {},
   "outputs": [
    {
     "data": {
      "text/plain": [
       "344"
      ]
     },
     "execution_count": 12,
     "metadata": {},
     "output_type": "execute_result"
    }
   ],
   "source": [
    "products['CATEGORY_3'].nunique()"
   ]
  },
  {
   "cell_type": "code",
   "execution_count": 13,
   "id": "40b84692",
   "metadata": {},
   "outputs": [
    {
     "data": {
      "text/plain": [
       "127"
      ]
     },
     "execution_count": 13,
     "metadata": {},
     "output_type": "execute_result"
    }
   ],
   "source": [
    "products['CATEGORY_4'].nunique()"
   ]
  },
  {
   "cell_type": "code",
   "execution_count": 14,
   "id": "3a142821",
   "metadata": {},
   "outputs": [
    {
     "data": {
      "text/plain": [
       "4354"
      ]
     },
     "execution_count": 14,
     "metadata": {},
     "output_type": "execute_result"
    }
   ],
   "source": [
    "products['MANUFACTURER'].nunique()"
   ]
  },
  {
   "cell_type": "code",
   "execution_count": 15,
   "id": "c8c827e9",
   "metadata": {},
   "outputs": [
    {
     "data": {
      "text/plain": [
       "8122"
      ]
     },
     "execution_count": 15,
     "metadata": {},
     "output_type": "execute_result"
    }
   ],
   "source": [
    "products['BRAND'].nunique()"
   ]
  },
  {
   "cell_type": "markdown",
   "id": "a7077d41-263f-4603-afc2-21225dbe9569",
   "metadata": {},
   "source": [
    "### Exploring Transactions Dataset"
   ]
  },
  {
   "cell_type": "code",
   "execution_count": 30,
   "id": "26026fb3-eade-48e1-a73c-b34c33f96738",
   "metadata": {},
   "outputs": [
    {
     "data": {
      "text/plain": [
       "RECEIPT_ID           0\n",
       "PURCHASE_DATE        0\n",
       "SCAN_DATE            0\n",
       "STORE_NAME           0\n",
       "USER_ID              0\n",
       "BARCODE           5762\n",
       "FINAL_QUANTITY       0\n",
       "FINAL_SALE           0\n",
       "dtype: int64"
      ]
     },
     "execution_count": 30,
     "metadata": {},
     "output_type": "execute_result"
    }
   ],
   "source": [
    "txns.isna().sum()"
   ]
  },
  {
   "cell_type": "markdown",
   "id": "740422bf-c32a-4057-a7f1-600f4ebcf219",
   "metadata": {},
   "source": [
    "- The Barcode field in the Transaction table serves as a foreign key to uniquely identify a product in the Product table.\n",
    "- There are 5,762 transactions with a missing barcode, preventing these transactions from being linked to a specific product."
   ]
  },
  {
   "cell_type": "code",
   "execution_count": 27,
   "id": "dd47c8ad-1afb-41f1-89c3-eda7d9f982a3",
   "metadata": {},
   "outputs": [
    {
     "data": {
      "text/plain": [
       "954"
      ]
     },
     "execution_count": 27,
     "metadata": {},
     "output_type": "execute_result"
    }
   ],
   "source": [
    "txns['STORE_NAME'].nunique()"
   ]
  },
  {
   "cell_type": "code",
   "execution_count": 29,
   "id": "17284212",
   "metadata": {},
   "outputs": [
    {
     "data": {
      "text/plain": [
       "array(['1.00', 'zero', '2.00', '3.00', '4.00', '4.55', '2.83', '2.34',\n",
       "       '0.46', '7.00', '18.00', '12.00', '5.00', '2.17', '0.23', '8.00',\n",
       "       '1.35', '0.09', '2.58', '1.47', '16.00', '0.62', '1.24', '1.40',\n",
       "       '0.51', '0.53', '1.69', '6.00', '2.39', '2.60', '10.00', '0.86',\n",
       "       '1.54', '1.88', '2.93', '1.28', '0.65', '2.89', '1.44', '2.75',\n",
       "       '1.81', '276.00', '0.87', '2.10', '3.33', '2.54', '2.20', '1.93',\n",
       "       '1.34', '1.13', '2.19', '0.83', '2.61', '0.28', '1.50', '0.97',\n",
       "       '0.24', '1.18', '6.22', '1.22', '1.23', '2.57', '1.07', '2.11',\n",
       "       '0.48', '9.00', '3.11', '1.08', '5.53', '1.89', '0.01', '2.18',\n",
       "       '1.99', '0.04', '2.25', '1.37', '3.02', '0.35', '0.99', '1.80',\n",
       "       '3.24', '0.94', '2.04', '3.69', '0.70', '2.52', '2.27'],\n",
       "      dtype=object)"
      ]
     },
     "execution_count": 29,
     "metadata": {},
     "output_type": "execute_result"
    }
   ],
   "source": [
    "txns['FINAL_QUANTITY'].unique()"
   ]
  },
  {
   "cell_type": "markdown",
   "id": "0dcc2c19-d82b-4943-8321-14f5f184fb13",
   "metadata": {},
   "source": [
    "### Closed-ended questions:\n"
   ]
  },
  {
   "cell_type": "markdown",
   "id": "6708bbd9-ca24-4eaa-9a2f-80f253a1d098",
   "metadata": {},
   "source": [
    "#1 What are the top 5 brands by receipts scanned among users 21 and over?\n"
   ]
  },
  {
   "cell_type": "code",
   "execution_count": 3,
   "id": "d53e5316-7c48-4443-845b-8f999c41190c",
   "metadata": {},
   "outputs": [],
   "source": [
    "query = \"\"\"\n",
    "-- CTE 1: Filter users who have had an account for at least six months.\n",
    "WITH Filtered_Users AS (\n",
    "    SELECT \n",
    "        ID AS USER_ID  \n",
    "    FROM Users\n",
    "    WHERE DATEDIFF('2025-01-17', CREATED_DATE) >= 180  -- Only include users with accounts older than 180 days\n",
    "),\n",
    "\n",
    "-- CTE 2: Filter transactions from the users identified in Step 1.\n",
    "Valid_Transactions AS (\n",
    "    SELECT \n",
    "        t.BARCODE,                 \n",
    "        t.FINAL_SALE AS SALE_AMOUNT\n",
    "    FROM Transactions t\n",
    "    WHERE t.USER_ID IN (SELECT USER_ID FROM Filtered_Users) -- Only consider transactions from filtered users\n",
    "    AND t.FINAL_SALE IS NOT NULL  -- Exclude transactions where the sale amount is NULL\n",
    "),\n",
    "\n",
    "-- CTE 3: Aggregate sales data by brand.\n",
    "Brand_Sales AS (\n",
    "    SELECT \n",
    "        p.BRAND,                  \n",
    "        SUM(vt.SALE_AMOUNT) AS TOTAL_SALES -- Total sales amount for the brand\n",
    "    FROM Valid_Transactions vt\n",
    "    INNER JOIN Products p\n",
    "        ON vt.BARCODE = p.BARCODE  -- Match transactions to products using the barcode\n",
    "\tWHERE p.BRAND IS NOT NULL      -- Exclude NULL brand values\n",
    "    GROUP BY p.BRAND               -- Group sales data by brand\n",
    ")\n",
    "\n",
    "-- CTE 4: Fetch the top 5 brands based on total sales.\n",
    "SELECT \n",
    "    BRAND,           \n",
    "    TOTAL_SALES     \n",
    "FROM Brand_Sales\n",
    "ORDER BY TOTAL_SALES DESC  -- Sort brands by total sales in descending order\n",
    "LIMIT 5;                   -- Limit the result to the top 5 brands\n",
    "\"\"\""
   ]
  },
  {
   "cell_type": "code",
   "execution_count": 4,
   "id": "3b087765-3993-4ecc-b884-96e7a460e836",
   "metadata": {},
   "outputs": [],
   "source": [
    "from pandasql import sqldf\n",
    "# Define a function to execute SQL queries (recommended for reusability)\n",
    "def pysqldf(q):\n",
    "    return sqldf(q, globals())"
   ]
  },
  {
   "cell_type": "code",
   "execution_count": null,
   "id": "9fb7bb59-7a79-4341-8e61-e4bdab0c8a85",
   "metadata": {},
   "outputs": [],
   "source": [
    "result_df = pysqldf(query)\n",
    "print(result_df)"
   ]
  }
 ],
 "metadata": {
  "kernelspec": {
   "display_name": "Python 3 (ipykernel)",
   "language": "python",
   "name": "python3"
  },
  "language_info": {
   "codemirror_mode": {
    "name": "ipython",
    "version": 3
   },
   "file_extension": ".py",
   "mimetype": "text/x-python",
   "name": "python",
   "nbconvert_exporter": "python",
   "pygments_lexer": "ipython3",
   "version": "3.11.4"
  }
 },
 "nbformat": 4,
 "nbformat_minor": 5
}
